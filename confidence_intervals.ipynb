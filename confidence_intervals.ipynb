{
 "cells": [
  {
   "cell_type": "code",
   "execution_count": 1,
   "metadata": {},
   "outputs": [],
   "source": [
    "from ipywidgets import widgets\n",
    "from IPython.display import display\n",
    "import scipy.stats as st\n",
    "import math"
   ]
  },
  {
   "cell_type": "markdown",
   "metadata": {},
   "source": [
    "# Confidence Intervals using Z - Test"
   ]
  },
  {
   "cell_type": "code",
   "execution_count": 2,
   "metadata": {},
   "outputs": [
    {
     "data": {
      "application/vnd.jupyter.widget-view+json": {
       "model_id": "a59eaea32619484595e117b50a531954",
       "version_major": 2,
       "version_minor": 0
      },
      "text/plain": [
       "Label(value='Enter Value of Mean X')"
      ]
     },
     "metadata": {},
     "output_type": "display_data"
    },
    {
     "data": {
      "application/vnd.jupyter.widget-view+json": {
       "model_id": "38aa23bd028e427ba0ffdc87452a1cc9",
       "version_major": 2,
       "version_minor": 0
      },
      "text/plain": [
       "Text(value='', description='X : ')"
      ]
     },
     "metadata": {},
     "output_type": "display_data"
    },
    {
     "data": {
      "application/vnd.jupyter.widget-view+json": {
       "model_id": "9df438471901458983993c2d350a7079",
       "version_major": 2,
       "version_minor": 0
      },
      "text/plain": [
       "Label(value='Enter Value of Total Sample Space')"
      ]
     },
     "metadata": {},
     "output_type": "display_data"
    },
    {
     "data": {
      "application/vnd.jupyter.widget-view+json": {
       "model_id": "7e3323c20edc4302875c0e108d8e685f",
       "version_major": 2,
       "version_minor": 0
      },
      "text/plain": [
       "Text(value='', description='S : ')"
      ]
     },
     "metadata": {},
     "output_type": "display_data"
    },
    {
     "data": {
      "application/vnd.jupyter.widget-view+json": {
       "model_id": "204565466d64480b9f83e99e9cbda98c",
       "version_major": 2,
       "version_minor": 0
      },
      "text/plain": [
       "Label(value='Enter Value of Selected Sample')"
      ]
     },
     "metadata": {},
     "output_type": "display_data"
    },
    {
     "data": {
      "application/vnd.jupyter.widget-view+json": {
       "model_id": "9e149a2778544643b2949a8685c73ce7",
       "version_major": 2,
       "version_minor": 0
      },
      "text/plain": [
       "Text(value='', description='n : ')"
      ]
     },
     "metadata": {},
     "output_type": "display_data"
    },
    {
     "data": {
      "application/vnd.jupyter.widget-view+json": {
       "model_id": "8279d52e6ae945908fe6355df6a1a4f6",
       "version_major": 2,
       "version_minor": 0
      },
      "text/plain": [
       "Label(value='Enter Percentage of Confidence')"
      ]
     },
     "metadata": {},
     "output_type": "display_data"
    },
    {
     "data": {
      "application/vnd.jupyter.widget-view+json": {
       "model_id": "6fe87fff9adc4b0b9ab6993a2e886fdc",
       "version_major": 2,
       "version_minor": 0
      },
      "text/plain": [
       "Text(value='', description='C : ')"
      ]
     },
     "metadata": {},
     "output_type": "display_data"
    },
    {
     "data": {
      "application/vnd.jupyter.widget-view+json": {
       "model_id": "fc1f68f88ea5402d99a1b43bbb0b063a",
       "version_major": 2,
       "version_minor": 0
      },
      "text/plain": [
       "Button(description='Calculate', style=ButtonStyle())"
      ]
     },
     "metadata": {},
     "output_type": "display_data"
    },
    {
     "data": {
      "application/vnd.jupyter.widget-view+json": {
       "model_id": "ace0598ff8ef48e48da1c7a6825b5c9d",
       "version_major": 2,
       "version_minor": 0
      },
      "text/plain": [
       "Label(value='Confidence Intervals Are')"
      ]
     },
     "metadata": {},
     "output_type": "display_data"
    }
   ],
   "source": [
    "lbl1 = widgets.Label('Enter Value of Mean X')\n",
    "display(lbl1)\n",
    "x = widgets.Text(description=\"X : \")\n",
    "display(x)\n",
    "\n",
    "lbl2 = widgets.Label('Enter Value of Total Sample Space')\n",
    "display(lbl2)\n",
    "s = widgets.Text(description=\"S : \")\n",
    "display(s)\n",
    "\n",
    "lbl3 = widgets.Label('Enter Value of Selected Sample')\n",
    "display(lbl3)\n",
    "n = widgets.Text(description=\"n : \")\n",
    "display(n)\n",
    "\n",
    "lbl4 = widgets.Label('Enter Percentage of Confidence')\n",
    "display(lbl4)\n",
    "c = widgets.Text(description=\"C : \")\n",
    "display(c)\n",
    "\n",
    "btn = widgets.Button(description=\"Calculate\")\n",
    "display(btn)\n",
    "\n",
    "lbl5 = widgets.Label('Confidence Intervals Are')\n",
    "display(lbl5)\n",
    "\n",
    "def z_test(temp):\n",
    "    temp1 = float(c.value) / 100  # Converting Percentage into fractional no. \n",
    "    temp2 = (1 - temp1) / 2\n",
    "    zc = temp1 + temp2  # 95% converted to (0.95 + 0.025) = 0.975\n",
    "    \n",
    "    zc = st.norm.ppf(zc)  # Finding inverse of z-value\n",
    "    \n",
    "    ans = zc * (float(s.value) / math.sqrt(float(n.value)))  # Formula\n",
    "    \n",
    "    print('( {}, {})'.format((float(x.value) - ans), (float(x.value) + ans)))  # Finding intervals\n",
    "    \n",
    "btn.on_click(z_test)"
   ]
  },
  {
   "cell_type": "markdown",
   "metadata": {},
   "source": [
    "# Confidence Intervals for Population Proportion"
   ]
  },
  {
   "cell_type": "code",
   "execution_count": 3,
   "metadata": {},
   "outputs": [
    {
     "data": {
      "application/vnd.jupyter.widget-view+json": {
       "model_id": "602328299d304514ab26185bbf50363c",
       "version_major": 2,
       "version_minor": 0
      },
      "text/plain": [
       "Label(value='Enter Value of Sample Selected')"
      ]
     },
     "metadata": {},
     "output_type": "display_data"
    },
    {
     "data": {
      "application/vnd.jupyter.widget-view+json": {
       "model_id": "c569b1a056694d7d95f6fe1eb9899d68",
       "version_major": 2,
       "version_minor": 0
      },
      "text/plain": [
       "Text(value='', description='n : ')"
      ]
     },
     "metadata": {},
     "output_type": "display_data"
    },
    {
     "data": {
      "application/vnd.jupyter.widget-view+json": {
       "model_id": "2fd9d788ebfe4e1e85a5a284bcacab93",
       "version_major": 2,
       "version_minor": 0
      },
      "text/plain": [
       "Label(value='Enter Value of Probability (Success or Failure)')"
      ]
     },
     "metadata": {},
     "output_type": "display_data"
    },
    {
     "data": {
      "application/vnd.jupyter.widget-view+json": {
       "model_id": "bc65c9fc4b09465b9a35ceccd429a96b",
       "version_major": 2,
       "version_minor": 0
      },
      "text/plain": [
       "Text(value='', description='P : ')"
      ]
     },
     "metadata": {},
     "output_type": "display_data"
    },
    {
     "data": {
      "application/vnd.jupyter.widget-view+json": {
       "model_id": "0ee89f1693794ca0a4b9f6753935fec5",
       "version_major": 2,
       "version_minor": 0
      },
      "text/plain": [
       "Label(value='Enter Percentage of Confidence')"
      ]
     },
     "metadata": {},
     "output_type": "display_data"
    },
    {
     "data": {
      "application/vnd.jupyter.widget-view+json": {
       "model_id": "c2fb05efe4074a24a4d8e73f058b9764",
       "version_major": 2,
       "version_minor": 0
      },
      "text/plain": [
       "Text(value='', description='C : ')"
      ]
     },
     "metadata": {},
     "output_type": "display_data"
    },
    {
     "data": {
      "application/vnd.jupyter.widget-view+json": {
       "model_id": "bcaa10d3e49f4961838a627e1d9af0aa",
       "version_major": 2,
       "version_minor": 0
      },
      "text/plain": [
       "Button(description='Calculate', style=ButtonStyle())"
      ]
     },
     "metadata": {},
     "output_type": "display_data"
    },
    {
     "data": {
      "application/vnd.jupyter.widget-view+json": {
       "model_id": "2387c21546bf4ba3b36a56c4129bb6fc",
       "version_major": 2,
       "version_minor": 0
      },
      "text/plain": [
       "Label(value='Confidence Intervals Are')"
      ]
     },
     "metadata": {},
     "output_type": "display_data"
    }
   ],
   "source": [
    "lbl1 = widgets.Label('Enter Value of Sample Selected')\n",
    "display(lbl1)\n",
    "n = widgets.Text(description=\"n : \")\n",
    "display(n)\n",
    "\n",
    "lbl2 = widgets.Label('Enter Value of Probability (Success or Failure)')\n",
    "display(lbl2)\n",
    "p = widgets.Text(description=\"P : \")\n",
    "display(p)\n",
    "\n",
    "lbl3 = widgets.Label('Enter Percentage of Confidence')\n",
    "display(lbl3)\n",
    "c = widgets.Text(description=\"C : \")\n",
    "display(c)\n",
    "\n",
    "btn = widgets.Button(description=\"Calculate\")\n",
    "display(btn)\n",
    "\n",
    "lbl4 = widgets.Label('Confidence Intervals Are')\n",
    "display(lbl4)\n",
    "\n",
    "def z_test(temp):\n",
    "    temp1 = float(c.value) / 100\n",
    "    temp2 = (1 - temp1) / 2\n",
    "    zc = temp1 + temp2\n",
    "    \n",
    "    zc = st.norm.ppf(zc)\n",
    "    \n",
    "    ans = zc * math.sqrt(((float(p.value) / float(n.value)) - (1 - (float(p.value) / float(n.value)))) / (float(n.value)))\n",
    "    \n",
    "    print('( {}, {})'.format((float(p.value) - ans), (float(p.value) + ans)))\n",
    "    \n",
    "btn.on_click(z_test)"
   ]
  },
  {
   "cell_type": "markdown",
   "metadata": {},
   "source": [
    "# Confidence Intervals using T-Test"
   ]
  },
  {
   "cell_type": "code",
   "execution_count": 4,
   "metadata": {},
   "outputs": [
    {
     "data": {
      "application/vnd.jupyter.widget-view+json": {
       "model_id": "5239440e11634046bea78e27b54c41a1",
       "version_major": 2,
       "version_minor": 0
      },
      "text/plain": [
       "Label(value='Enter Value of Mean X')"
      ]
     },
     "metadata": {},
     "output_type": "display_data"
    },
    {
     "data": {
      "application/vnd.jupyter.widget-view+json": {
       "model_id": "1a7f7eb202fa427e9d710de42e8e093e",
       "version_major": 2,
       "version_minor": 0
      },
      "text/plain": [
       "Text(value='', description='X : ')"
      ]
     },
     "metadata": {},
     "output_type": "display_data"
    },
    {
     "data": {
      "application/vnd.jupyter.widget-view+json": {
       "model_id": "6dbe86ca88b749338de757e575936d9f",
       "version_major": 2,
       "version_minor": 0
      },
      "text/plain": [
       "Label(value='Enter Value of Standard Deviation')"
      ]
     },
     "metadata": {},
     "output_type": "display_data"
    },
    {
     "data": {
      "application/vnd.jupyter.widget-view+json": {
       "model_id": "e9f61112184d441d94265dc77cdaeea2",
       "version_major": 2,
       "version_minor": 0
      },
      "text/plain": [
       "Text(value='', description='S : ')"
      ]
     },
     "metadata": {},
     "output_type": "display_data"
    },
    {
     "data": {
      "application/vnd.jupyter.widget-view+json": {
       "model_id": "644a5cdcd4a44c16843685d8ca813570",
       "version_major": 2,
       "version_minor": 0
      },
      "text/plain": [
       "Label(value='Enter Value of Selected Sample')"
      ]
     },
     "metadata": {},
     "output_type": "display_data"
    },
    {
     "data": {
      "application/vnd.jupyter.widget-view+json": {
       "model_id": "e26b6af269cf40699f5c3c54a30fe048",
       "version_major": 2,
       "version_minor": 0
      },
      "text/plain": [
       "Text(value='', description='n : ')"
      ]
     },
     "metadata": {},
     "output_type": "display_data"
    },
    {
     "data": {
      "application/vnd.jupyter.widget-view+json": {
       "model_id": "28698a5e94b641b8b168af1142e62d0d",
       "version_major": 2,
       "version_minor": 0
      },
      "text/plain": [
       "Label(value='Enter Percentage of Confidence')"
      ]
     },
     "metadata": {},
     "output_type": "display_data"
    },
    {
     "data": {
      "application/vnd.jupyter.widget-view+json": {
       "model_id": "4fd865abac764375a3752c94fe43ee0f",
       "version_major": 2,
       "version_minor": 0
      },
      "text/plain": [
       "Text(value='', description='C : ')"
      ]
     },
     "metadata": {},
     "output_type": "display_data"
    },
    {
     "data": {
      "application/vnd.jupyter.widget-view+json": {
       "model_id": "7569e6aada7643d9af409a36f65ece45",
       "version_major": 2,
       "version_minor": 0
      },
      "text/plain": [
       "Button(description='Calculate', style=ButtonStyle())"
      ]
     },
     "metadata": {},
     "output_type": "display_data"
    },
    {
     "data": {
      "application/vnd.jupyter.widget-view+json": {
       "model_id": "9993b337a1fd4108bc77d5d50fc9fa97",
       "version_major": 2,
       "version_minor": 0
      },
      "text/plain": [
       "Label(value='Confidence Intervals Are')"
      ]
     },
     "metadata": {},
     "output_type": "display_data"
    }
   ],
   "source": [
    "lbl1 = widgets.Label('Enter Value of Mean X')\n",
    "display(lbl1)\n",
    "x = widgets.Text(description=\"X : \")\n",
    "display(x)\n",
    "\n",
    "lbl2 = widgets.Label('Enter Value of Standard Deviation')\n",
    "display(lbl2)\n",
    "s = widgets.Text(description=\"S : \")\n",
    "display(s)\n",
    "\n",
    "lbl3 = widgets.Label('Enter Value of Selected Sample')\n",
    "display(lbl3)\n",
    "n = widgets.Text(description=\"n : \")\n",
    "display(n)\n",
    "\n",
    "lbl4 = widgets.Label('Enter Percentage of Confidence')\n",
    "display(lbl4)\n",
    "c = widgets.Text(description=\"C : \")\n",
    "display(c)\n",
    "\n",
    "btn = widgets.Button(description=\"Calculate\")\n",
    "display(btn)\n",
    "\n",
    "lbl5 = widgets.Label('Confidence Intervals Are')\n",
    "display(lbl5)\n",
    "\n",
    "def t_test(temp):\n",
    "    temp1 = float(c.value) / 100\n",
    "    temp2 = (1 - temp1) / 2\n",
    "    zc = temp1 + temp2\n",
    "    \n",
    "    zc = st.t.ppf(zc, (float(n.value) - 1))  # Finding T-value using two parameters as like finding in table\n",
    "    \n",
    "    ans = zc * (float(s.value) / math.sqrt(float(n.value)))\n",
    "    \n",
    "    print('( {}, {} )'.format((float(x.value) - ans), (float(x.value) + ans)))\n",
    "    \n",
    "btn.on_click(t_test)"
   ]
  },
  {
   "cell_type": "markdown",
   "metadata": {},
   "source": [
    "# Confidence Intervals using Chi-Sqare Test"
   ]
  },
  {
   "cell_type": "code",
   "execution_count": 5,
   "metadata": {},
   "outputs": [
    {
     "data": {
      "application/vnd.jupyter.widget-view+json": {
       "model_id": "f0fe2a9d094c4c00acc7dc85b06ee534",
       "version_major": 2,
       "version_minor": 0
      },
      "text/plain": [
       "Label(value='Enter Value of Sample Selected')"
      ]
     },
     "metadata": {},
     "output_type": "display_data"
    },
    {
     "data": {
      "application/vnd.jupyter.widget-view+json": {
       "model_id": "c3c2d2217ae54fbe8d99802a57ca37e2",
       "version_major": 2,
       "version_minor": 0
      },
      "text/plain": [
       "Text(value='', description='n : ')"
      ]
     },
     "metadata": {},
     "output_type": "display_data"
    },
    {
     "data": {
      "application/vnd.jupyter.widget-view+json": {
       "model_id": "8340f15fcd9544c9bb7029bb6f16e1bc",
       "version_major": 2,
       "version_minor": 0
      },
      "text/plain": [
       "Label(value='Enter Value of Standard Deviation')"
      ]
     },
     "metadata": {},
     "output_type": "display_data"
    },
    {
     "data": {
      "application/vnd.jupyter.widget-view+json": {
       "model_id": "5f79fd900dbf46cb8e457c971fd65a52",
       "version_major": 2,
       "version_minor": 0
      },
      "text/plain": [
       "Text(value='', description='S : ')"
      ]
     },
     "metadata": {},
     "output_type": "display_data"
    },
    {
     "data": {
      "application/vnd.jupyter.widget-view+json": {
       "model_id": "c138f9346ae643b68c4a9bc7d0fa7a39",
       "version_major": 2,
       "version_minor": 0
      },
      "text/plain": [
       "Label(value='Enter Percentage of Confidence')"
      ]
     },
     "metadata": {},
     "output_type": "display_data"
    },
    {
     "data": {
      "application/vnd.jupyter.widget-view+json": {
       "model_id": "735d338d4f1146c39fc9ed2b5539428f",
       "version_major": 2,
       "version_minor": 0
      },
      "text/plain": [
       "Text(value='', description='C : ')"
      ]
     },
     "metadata": {},
     "output_type": "display_data"
    },
    {
     "data": {
      "application/vnd.jupyter.widget-view+json": {
       "model_id": "8512a3316d7343b984224a1e8340f6e9",
       "version_major": 2,
       "version_minor": 0
      },
      "text/plain": [
       "Button(description='Calculate', style=ButtonStyle())"
      ]
     },
     "metadata": {},
     "output_type": "display_data"
    },
    {
     "data": {
      "application/vnd.jupyter.widget-view+json": {
       "model_id": "a2734673642e4bd3b0056eea79848043",
       "version_major": 2,
       "version_minor": 0
      },
      "text/plain": [
       "Label(value='Confidence Intervals Are')"
      ]
     },
     "metadata": {},
     "output_type": "display_data"
    }
   ],
   "source": [
    "lbl1 = widgets.Label('Enter Value of Sample Selected')\n",
    "display(lbl1)\n",
    "n = widgets.Text(description=\"n : \")\n",
    "display(n)\n",
    "\n",
    "lbl2 = widgets.Label('Enter Value of Standard Deviation')\n",
    "display(lbl2)\n",
    "s = widgets.Text(description=\"S : \")\n",
    "display(s)\n",
    "\n",
    "lbl3 = widgets.Label('Enter Percentage of Confidence')\n",
    "display(lbl3)\n",
    "c = widgets.Text(description=\"C : \")\n",
    "display(c)\n",
    "\n",
    "btn = widgets.Button(description=\"Calculate\")\n",
    "display(btn)\n",
    "\n",
    "lbl4 = widgets.Label('Confidence Intervals Are')\n",
    "display(lbl4)\n",
    "\n",
    "def chi_test(temp):\n",
    "    xl = (1 + (float(c.value) / 100)) / 2\n",
    "    xr = (1 - (float(c.value) / 100)) / 2\n",
    "    \n",
    "    xl = st.chi2.ppf((1 - xl), (float(n.value) - 1))  # Finding Chi-Square values using two parameters as like finding in table\n",
    "    xr = st.chi2.ppf((1 - xr), (float(n.value) - 1))\n",
    "    \n",
    "    print('( {}, {} )'.format((((float(n.value) - 1) * float(s.value)**2) / xr), (((float(n.value) - 1) * float(s.value)**2) / xl)))\n",
    "    \n",
    "btn.on_click(chi_test)"
   ]
  }
 ],
 "metadata": {
  "kernelspec": {
   "display_name": "Python 3",
   "language": "python",
   "name": "python3"
  },
  "language_info": {
   "codemirror_mode": {
    "name": "ipython",
    "version": 3
   },
   "file_extension": ".py",
   "mimetype": "text/x-python",
   "name": "python",
   "nbconvert_exporter": "python",
   "pygments_lexer": "ipython3",
   "version": "3.7.1"
  }
 },
 "nbformat": 4,
 "nbformat_minor": 2
}
